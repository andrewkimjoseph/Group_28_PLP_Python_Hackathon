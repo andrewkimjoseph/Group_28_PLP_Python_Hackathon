{
  "cells": [
    {
      "cell_type": "markdown",
      "id": "d14cc06f",
      "metadata": {
        "id": "d14cc06f"
      },
      "source": [
        "# Bus Fare Challenge - Task One (Day 1)\n",
        "\n",
        "Write a program that does the following:\n",
        "1.\tGets today's date and stores it in a variable 'date'\n",
        "2.\tUses today's date to get the name on the day of the week written in short form with the first letter capitalized eg. 'Fri' if today were Friday and assigns it a variable 'day'\n",
        "3.\tUses if statements to determine the today's fare following these bus fare schedule:\n",
        "Monday - Friday --> 100\n",
        "Saturday --> 60\n",
        "Sunday --> 80\n",
        "4.\tPrints the results in this format \n",
        "Date: 2022-07-05\n",
        "Day: Tue\n",
        "Fare: 100\n"
      ]
    },
    {
      "cell_type": "code",
      "execution_count": null,
      "id": "6753da91",
      "metadata": {
        "id": "6753da91"
      },
      "outputs": [],
      "source": [
        "from datetime import date # Classes to work with day and time\n",
        "import calendar # Has useful functions related to dates"
      ]
    },
    {
      "cell_type": "code",
      "execution_count": null,
      "id": "1a00ee34",
      "metadata": {
        "id": "1a00ee34"
      },
      "outputs": [],
      "source": [
        "date = date.today() # Fetches current date in full, as in datetime.date(2022, 7, 8)\n",
        "day_today = calendar.day_abbr[date.weekday()] # Uses indexing to fetch abbreviated form of day\n",
        "# calendar.day_abbr is a localized day containing abbreviations from 'Mon' to 'Sun.'\n",
        "# date_today.weekday() returns an integer that corresponds to the current date.\n",
        "# For example, if today is Friday, date_today.weekday() will return 4, and Monday will return 0.\n",
        "# List indexes start from 0, so it makes sense that the first day of the week (Monday) is 0."
      ]
    },
    {
      "cell_type": "code",
      "execution_count": null,
      "id": "28022dfb",
      "metadata": {
        "id": "28022dfb",
        "outputId": "98854149-da39-4d19-afb5-c18863fb9b60",
        "colab": {
          "base_uri": "https://localhost:8080/",
          "height": 302
        }
      },
      "outputs": [
        {
          "output_type": "error",
          "ename": "NameError",
          "evalue": "ignored",
          "traceback": [
            "\u001b[0;31m---------------------------------------------------------------------------\u001b[0m",
            "\u001b[0;31mNameError\u001b[0m                                 Traceback (most recent call last)",
            "\u001b[0;32m<ipython-input-2-0d6e5a8fa00a>\u001b[0m in \u001b[0;36m<module>\u001b[0;34m()\u001b[0m\n\u001b[0;32m----> 1\u001b[0;31m \u001b[0mprint\u001b[0m\u001b[0;34m(\u001b[0m\u001b[0;34mf'Date: {date.strftime(\"%Y-%m-%d\")}'\u001b[0m\u001b[0;34m)\u001b[0m \u001b[0;31m# strftime is a method that return the date in a specified format\u001b[0m\u001b[0;34m\u001b[0m\u001b[0;34m\u001b[0m\u001b[0m\n\u001b[0m\u001b[1;32m      2\u001b[0m \u001b[0mprint\u001b[0m\u001b[0;34m(\u001b[0m\u001b[0;34mf'Day: {day_today}'\u001b[0m\u001b[0;34m)\u001b[0m\u001b[0;34m\u001b[0m\u001b[0;34m\u001b[0m\u001b[0m\n\u001b[1;32m      3\u001b[0m \u001b[0mprint\u001b[0m\u001b[0;34m(\u001b[0m\u001b[0;34mf'Fare: {fare}'\u001b[0m\u001b[0;34m)\u001b[0m\u001b[0;34m\u001b[0m\u001b[0;34m\u001b[0m\u001b[0m\n",
            "\u001b[0;31mNameError\u001b[0m: name 'date' is not defined"
          ]
        }
      ],
      "source": [
        "print(f'Date: {date.strftime(\"%Y-%m-%d\")}') # strftime is a method that return the date in a specified format\n",
        "print(f'Day: {day_today}')\n",
        "print(f'Fare: {fare}')"
      ]
    },
    {
      "cell_type": "code",
      "execution_count": null,
      "id": "81aea716",
      "metadata": {
        "id": "81aea716"
      },
      "outputs": [],
      "source": [
        "if day_today == 'Sun':\n",
        "    fare = 80\n",
        "elif day_today == 'Sat':\n",
        "    fare = 60\n",
        "else:\n",
        "    fare = 100"
      ]
    }
  ],
  "metadata": {
    "kernelspec": {
      "display_name": "Python 3 (ipykernel)",
      "language": "python",
      "name": "python3"
    },
    "language_info": {
      "codemirror_mode": {
        "name": "ipython",
        "version": 3
      },
      "file_extension": ".py",
      "mimetype": "text/x-python",
      "name": "python",
      "nbconvert_exporter": "python",
      "pygments_lexer": "ipython3",
      "version": "3.9.12"
    },
    "colab": {
      "name": "1. Task 1 of Day 1.ipynb",
      "provenance": [],
      "collapsed_sections": []
    }
  },
  "nbformat": 4,
  "nbformat_minor": 5
}
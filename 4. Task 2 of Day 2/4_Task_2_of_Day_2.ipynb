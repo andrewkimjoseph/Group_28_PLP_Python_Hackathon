{
  "nbformat": 4,
  "nbformat_minor": 0,
  "metadata": {
    "colab": {
      "name": "4. Task 2 of Day 2.ipynb",
      "provenance": [],
      "collapsed_sections": []
    },
    "kernelspec": {
      "name": "python3",
      "display_name": "Python 3"
    },
    "language_info": {
      "name": "python"
    }
  },
  "cells": [
    {
      "cell_type": "markdown",
      "source": [
        "# Challenge - Task Two (Day 2)"
      ],
      "metadata": {
        "id": "DV87EpN0Qovv"
      }
    },
    {
      "cell_type": "markdown",
      "source": [
        "Write a python program that takes user inputs and determines what career the user should learn.\n",
        "Requirements:\n",
        "* Store career options in a list or in variables.\n",
        "* Store career advices in a list.\n",
        "* Store career questions in a list.\n",
        "* Use conditional statements that determines the user selected choice.\n",
        "* When a wrong input is entered the program should print out an error message.\n",
        "* When all the questions are done the program should determine which career    the user should venture in and program should terminate.\n"
      ],
      "metadata": {
        "id": "Y_by3BzqMo24"
      }
    },
    {
      "cell_type": "code",
      "source": [
        "i = None\n",
        "y = 0\n",
        "question = None\n",
        "selection = True\n",
        "quiz = True\n",
        "career_choice = None\n",
        "var = None"
      ],
      "metadata": {
        "id": "dAHVHAfzCDJs"
      },
      "execution_count": 1,
      "outputs": []
    },
    {
      "cell_type": "code",
      "source": [
        "career_advices = ['Engineering is tough but you can manage',\n",
        "                  'Medicine requires dedication and precision.',\n",
        "                  'Anyone with interest in technology can do Computer Science',\n",
        "                  'Justice-loving people say Law is worth it',\n",
        "                  'Without teachers, no careers will be available',\n",
        "                  'Being a soldier takes one to be courageous']\n",
        "\n",
        "career_question = ['Will you manage to handle complex equation?',\n",
        "                   'Can you be reliable in future?',\n",
        "                   'Do you have passion in technology?',\n",
        "                   'will you be just when conducting your cases?',\n",
        "                   'will you be patient with your students?',\n",
        "                   'are you ready to serve your nation and its people?']\n",
        "\n",
        "choices_options = ['Engineering', 'Medicine', 'Computer Science', 'Law', 'Education', 'Military']"
      ],
      "metadata": {
        "id": "BslqO8PxClNU"
      },
      "execution_count": 2,
      "outputs": []
    },
    {
      "cell_type": "code",
      "source": [
        ""
      ],
      "metadata": {
        "id": "OfXoF3y0N1iy"
      },
      "execution_count": 2,
      "outputs": []
    },
    {
      "cell_type": "code",
      "execution_count": 3,
      "metadata": {
        "id": "bG4HmGcQ2r9d"
      },
      "outputs": [],
      "source": [
        "def career_quiz():\n",
        "    for i in range(len(choices_options)):\n",
        "        if i == (choices_options.index(choices_options[y])):\n",
        "            print('\\n','CAREER QUESTIONS\\n',career_question[i], ': Y / N')\n",
        "            question = input(' ').lower()\n",
        "            quiz = True\n",
        "            while quiz == True:\n",
        "                if question == ('y')  or question == ('yes'):\n",
        "                    print(' Okay, your best selection of career is', choices_options[i])\n",
        "                    break\n",
        "                    quiz = True\n",
        "                else:\n",
        "                    print(' You should check again your best options then')\n",
        "                    for n in question:\n",
        "                        choices()\n",
        "                        if question == ('n') or question == ('no'):\n",
        "                            break\n",
        "                    break\n",
        "                    quiz == False\n",
        "            break\n",
        "        elif i == (len(choices_options.index[y])-1):\n",
        "              print('the career choice number is not available')\n"
      ]
    },
    {
      "cell_type": "code",
      "source": [
        "def choices(options=choices_options):\n",
        "    print('Choose the career that you want to pursue: ')\n",
        "\n",
        "    for x, element in enumerate(options):\n",
        "        print(\"{}). {}\".format(x + 1, element))\n",
        "    \n",
        "    try:\n",
        "        i = int(input('Enter the choice number: '))\n",
        "    except ValueError:\n",
        "        print('ERROR: Choice Must Be A Number')\n",
        "        choices(options)\n",
        "  \n",
        "    try:\n",
        "        print(f'You have choosen {choices_options[i - 1]} an excellent choice!')\n",
        "        print(f'Now, the ADVICE:\\n{career_advices[i - 1]}')\n",
        "    except IndexError:\n",
        "          print('ERROR: Choice Must Be Between 1 and 6')\n",
        "          choices(options)\n",
        "    else:\n",
        "        y = i\n",
        "    "
      ],
      "metadata": {
        "id": "pJc1C3-DCHS2"
      },
      "execution_count": 4,
      "outputs": []
    },
    {
      "cell_type": "code",
      "source": [
        "choices()"
      ],
      "metadata": {
        "colab": {
          "base_uri": "https://localhost:8080/"
        },
        "id": "KiKGPTrMSP1D",
        "outputId": "c4f0807c-847e-4087-f1cf-1bc9fca13b34"
      },
      "execution_count": 5,
      "outputs": [
        {
          "output_type": "stream",
          "name": "stdout",
          "text": [
            "Choose the career that you want to pursue: \n",
            "1). Engineering\n",
            "2). Medicine\n",
            "3). Computer Science\n",
            "4). Law\n",
            "5). Education\n",
            "6). Military\n",
            "Enter the choice number: 1\n",
            "You have choosen Engineering an excellent choice!\n",
            "Now, the ADVICE:\n",
            "Engineering is tough but you can manage\n"
          ]
        }
      ]
    },
    {
      "cell_type": "code",
      "source": [
        "career_quiz()"
      ],
      "metadata": {
        "id": "zyCUGHYIQ3ov",
        "colab": {
          "base_uri": "https://localhost:8080/"
        },
        "outputId": "a86f3646-28ea-46a5-9fac-42bb1fa3aaf9"
      },
      "execution_count": 6,
      "outputs": [
        {
          "output_type": "stream",
          "name": "stdout",
          "text": [
            "\n",
            " CAREER QUESTIONS\n",
            " Will you manage to handle complex equation? : Y / N\n",
            " Y\n",
            " Okay, your best selection of career is Engineering\n"
          ]
        }
      ]
    }
  ]
}